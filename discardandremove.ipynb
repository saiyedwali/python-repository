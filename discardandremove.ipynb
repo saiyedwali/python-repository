{
 "cells": [
  {
   "cell_type": "markdown",
   "id": "c5f9fc55-d0bf-4ca9-ac01-68abc04ae202",
   "metadata": {},
   "source": [
    "USING DISCARD\n"
   ]
  },
  {
   "cell_type": "code",
   "execution_count": 3,
   "id": "8a7338d1-e08f-4aa6-be9b-346b413ad32e",
   "metadata": {},
   "outputs": [
    {
     "name": "stdout",
     "output_type": "stream",
     "text": [
      "{2, 5, 9.4, 'a'}\n"
     ]
    }
   ],
   "source": [
    "value_set = {2,'PYTHON','a',5,9.4}\n",
    "value_set.discard('PYTHON')\n",
    "print(value_set)"
   ]
  },
  {
   "cell_type": "markdown",
   "id": "ac242411-d80a-45c1-9d64-2754299f6135",
   "metadata": {},
   "source": [
    "USING REMOVE"
   ]
  },
  {
   "cell_type": "code",
   "execution_count": 4,
   "id": "1278084b-119a-4cb8-90d6-91256d546c7b",
   "metadata": {},
   "outputs": [
    {
     "name": "stdout",
     "output_type": "stream",
     "text": [
      "{2, 5, 9.5, 'a'}\n"
     ]
    }
   ],
   "source": [
    "value_set = {2, 'PYTHON', 'a',5,9.5}\n",
    "value_set.remove('PYTHON')\n",
    "print(value_set)\n"
   ]
  }
 ],
 "metadata": {
  "kernelspec": {
   "display_name": "Python 3 (ipykernel)",
   "language": "python",
   "name": "python3"
  },
  "language_info": {
   "codemirror_mode": {
    "name": "ipython",
    "version": 3
   },
   "file_extension": ".py",
   "mimetype": "text/x-python",
   "name": "python",
   "nbconvert_exporter": "python",
   "pygments_lexer": "ipython3",
   "version": "3.12.6"
  }
 },
 "nbformat": 4,
 "nbformat_minor": 5
}
