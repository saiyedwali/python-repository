{
 "cells": [
  {
   "cell_type": "code",
   "execution_count": 1,
   "id": "fdb4bf69-3e42-4797-a590-b6bae8a6ece8",
   "metadata": {},
   "outputs": [
    {
     "name": "stdout",
     "output_type": "stream",
     "text": [
      "(26, 45, 32)\n"
     ]
    }
   ],
   "source": [
    "value_tuple = 26,45,32\n",
    "print(value_tuple)"
   ]
  },
  {
   "cell_type": "code",
   "execution_count": 2,
   "id": "9dd9b12d-2d67-4ea0-8800-ab0da42ccf23",
   "metadata": {},
   "outputs": [
    {
     "name": "stdout",
     "output_type": "stream",
     "text": [
      "('hello',)\n"
     ]
    }
   ],
   "source": [
    "Tuple = ('hello',)\n",
    "print(Tuple)"
   ]
  },
  {
   "cell_type": "code",
   "execution_count": 3,
   "id": "aa1d1f26-5818-4ea6-b1e5-a7971e4e2312",
   "metadata": {},
   "outputs": [
    {
     "name": "stdout",
     "output_type": "stream",
     "text": [
      "((26, 45, 'hello'), (7, 5, 6, 'python'))\n"
     ]
    }
   ],
   "source": [
    "value1_tuple = (26,45,'hello')\n",
    "value2_tuple = 7,5,6, \"python\"\n",
    "value3_tuple = value1_tuple ,value2_tuple\n",
    "print(value3_tuple)"
   ]
  },
  {
   "cell_type": "code",
   "execution_count": 4,
   "id": "c2292095-0b7a-442b-a6d1-4d7441a9d8d3",
   "metadata": {},
   "outputs": [
    {
     "name": "stdout",
     "output_type": "stream",
     "text": [
      "(26, 45, 'hello', 26, 45, 'hello')\n"
     ]
    }
   ],
   "source": [
    "tuple_v = (26,45,'hello',) *2\n",
    "print(tuple_v)"
   ]
  },
  {
   "cell_type": "code",
   "execution_count": 5,
   "id": "328bce7c-8fbe-4759-ac10-f7025ee2d0c4",
   "metadata": {},
   "outputs": [
    {
     "name": "stdout",
     "output_type": "stream",
     "text": [
      "7.5\n"
     ]
    }
   ],
   "source": [
    "tuple_v = (26,45,'hello', 7.5) \n",
    "print(tuple_v[3])"
   ]
  },
  {
   "cell_type": "code",
   "execution_count": 6,
   "id": "ce710d4b-1bcd-4130-b7a8-89e59ec381e2",
   "metadata": {},
   "outputs": [
    {
     "name": "stdout",
     "output_type": "stream",
     "text": [
      "(26, 45, 'hello')\n"
     ]
    }
   ],
   "source": [
    "tuple_v = (26,45,'hello', 7.5) \n",
    "print(tuple_v[:3])"
   ]
  },
  {
   "cell_type": "code",
   "execution_count": 7,
   "id": "d6384827-e3fd-4338-bc78-e50582632f8d",
   "metadata": {},
   "outputs": [
    {
     "name": "stdout",
     "output_type": "stream",
     "text": [
      "('hello', 7.5)\n"
     ]
    }
   ],
   "source": [
    "tuple_v = (26,45,'hello', 7.5) \n",
    "print(tuple_v[2:])"
   ]
  },
  {
   "cell_type": "code",
   "execution_count": 8,
   "id": "8aa3c4a9-31da-4428-9bd5-b24051d59332",
   "metadata": {},
   "outputs": [
    {
     "name": "stdout",
     "output_type": "stream",
     "text": [
      "(7.5, 'z', 5, 6.9)\n"
     ]
    }
   ],
   "source": [
    "tuple_v = (26,45,'hello', 7.5,'z',5,6.9) \n",
    "print(tuple_v[-4:])"
   ]
  },
  {
   "cell_type": "code",
   "execution_count": 9,
   "id": "929a75e6-40b8-4758-a228-f47261ec47b7",
   "metadata": {},
   "outputs": [
    {
     "name": "stdout",
     "output_type": "stream",
     "text": [
      "(7.5, 'z', 5, 6.9)\n"
     ]
    }
   ],
   "source": [
    "tuple_v = (26,45,'hello', 7.5,'z',5,6.9) \n",
    "print(tuple_v[-4:])"
   ]
  },
  {
   "cell_type": "code",
   "execution_count": 10,
   "id": "86bb51c1-7586-4fe3-94aa-8a2ab5608518",
   "metadata": {},
   "outputs": [
    {
     "name": "stdout",
     "output_type": "stream",
     "text": [
      "(26, 45, 'hello', 7.5, 'z', 5)\n"
     ]
    }
   ],
   "source": [
    "tuple_v = (26,45,'hello', 7.5,'z',5,6.9) \n",
    "print(tuple_v[:-1])"
   ]
  },
  {
   "cell_type": "code",
   "execution_count": 11,
   "id": "f295226d-986d-42d0-b894-0fccdcde8817",
   "metadata": {},
   "outputs": [
    {
     "name": "stdout",
     "output_type": "stream",
     "text": [
      "(6.9, 7.5, 26)\n"
     ]
    }
   ],
   "source": [
    "tuple_v = (26,45,'hello', 7.5,'z',5,6.9) \n",
    "print(tuple_v[::-3])"
   ]
  },
  {
   "cell_type": "code",
   "execution_count": 12,
   "id": "10d313a6-3aca-4e61-b3d6-b7bf5a78ff62",
   "metadata": {},
   "outputs": [
    {
     "name": "stdout",
     "output_type": "stream",
     "text": [
      "(6.9, 'z', 'hello', 26)\n"
     ]
    }
   ],
   "source": [
    "tuple_v = (26,45,'hello', 7.5,'z',5,6.9) \n",
    "print(tuple_v[::-2])"
   ]
  },
  {
   "cell_type": "code",
   "execution_count": 13,
   "id": "e342a20e-41dc-4e06-8637-9fc92aafb912",
   "metadata": {},
   "outputs": [
    {
     "name": "stdout",
     "output_type": "stream",
     "text": [
      "(45,)\n"
     ]
    }
   ],
   "source": [
    "tuple_v = (26,45,'hello', 7.5,'z',5,6.9) \n",
    "print(tuple_v[1:2])"
   ]
  },
  {
   "cell_type": "code",
   "execution_count": 14,
   "id": "7a992a48-0422-40d3-9e7a-47f9f144da9c",
   "metadata": {},
   "outputs": [
    {
     "name": "stdout",
     "output_type": "stream",
     "text": [
      "(45, 'hello', 7.5)\n"
     ]
    }
   ],
   "source": [
    "tuple_v = (26,45,'hello', 7.5,'z',5,6.9) \n",
    "print(tuple_v[1:4])"
   ]
  },
  {
   "cell_type": "code",
   "execution_count": 15,
   "id": "06f53cce-4135-4030-bf9a-9a458e8386ed",
   "metadata": {},
   "outputs": [
    {
     "name": "stdout",
     "output_type": "stream",
     "text": [
      "(45, 'z')\n"
     ]
    }
   ],
   "source": [
    "tuple_v = (26,45,'hello', 7.5,'z',5,6.9) \n",
    "print(tuple_v[1::3])"
   ]
  },
  {
   "cell_type": "code",
   "execution_count": 16,
   "id": "13673093-8ba6-4f00-9bf1-a24b172392d7",
   "metadata": {},
   "outputs": [
    {
     "name": "stdout",
     "output_type": "stream",
     "text": [
      "(6.9, 'z', 'hello', 26)\n"
     ]
    }
   ],
   "source": [
    "tuple_v = (26,45,'hello', 7.5,'z',5,6.9) \n",
    "print(tuple_v[-1::-2])"
   ]
  },
  {
   "cell_type": "code",
   "execution_count": 17,
   "id": "e38ddc1d-698f-44b4-8969-59365d59a9c9",
   "metadata": {},
   "outputs": [
    {
     "name": "stdout",
     "output_type": "stream",
     "text": [
      "(45, 7.5, 5)\n"
     ]
    }
   ],
   "source": [
    "tuple_v = (26,45,'hello', 7.5,'z',5,6.9) \n",
    "print(tuple_v[1:6:2])"
   ]
  },
  {
   "cell_type": "code",
   "execution_count": 18,
   "id": "6dbf3bc3-1617-40b9-b873-414d28288ec6",
   "metadata": {},
   "outputs": [
    {
     "name": "stdout",
     "output_type": "stream",
     "text": [
      "(1, 2, 3)\n"
     ]
    }
   ],
   "source": [
    "value1 = (1,2,3)\n",
    "print(value1)"
   ]
  },
  {
   "cell_type": "code",
   "execution_count": 19,
   "id": "7fba0ee2-b366-4ee6-b5a6-66a2055eeb34",
   "metadata": {},
   "outputs": [
    {
     "name": "stdout",
     "output_type": "stream",
     "text": [
      "(3, 4, 5)\n"
     ]
    }
   ],
   "source": [
    "value2 = (3,4,5)\n",
    "print(value2)"
   ]
  },
  {
   "cell_type": "markdown",
   "id": "9d07a162-252d-4b92-839f-5b60794c4e66",
   "metadata": {},
   "source": [
    "Any : Built in function"
   ]
  },
  {
   "cell_type": "code",
   "execution_count": 21,
   "id": "d287e5f4-a1b1-4e6d-b849-91057a612786",
   "metadata": {},
   "outputs": [
    {
     "name": "stdout",
     "output_type": "stream",
     "text": [
      "True\n"
     ]
    }
   ],
   "source": [
    "tuple = (1,2,3)\n",
    "print(any(tuple))"
   ]
  },
  {
   "cell_type": "markdown",
   "id": "1dd752f3-3c93-44b3-9857-85080892b434",
   "metadata": {},
   "source": [
    "All : built in Function"
   ]
  },
  {
   "cell_type": "code",
   "execution_count": 22,
   "id": "6cf41336-99d9-4624-a49b-594c184ea149",
   "metadata": {},
   "outputs": [
    {
     "name": "stdout",
     "output_type": "stream",
     "text": [
      "False\n"
     ]
    }
   ],
   "source": [
    "tuple = (0,2,3)\n",
    "print(all(tuple))"
   ]
  },
  {
   "cell_type": "code",
   "execution_count": 23,
   "id": "1d5f8b02-e97b-4b9b-be4f-f0c80ec37971",
   "metadata": {},
   "outputs": [
    {
     "name": "stdout",
     "output_type": "stream",
     "text": [
      "apple\n",
      "byte\n",
      "computer\n"
     ]
    }
   ],
   "source": [
    "tuple = (\"apple\",\"byte\",\"computer\")\n",
    "for i in tuple:\n",
    "   print(i)"
   ]
  },
  {
   "cell_type": "code",
   "execution_count": 24,
   "id": "095c89c6-7604-4bbf-8390-ec653dffeb05",
   "metadata": {},
   "outputs": [
    {
     "name": "stdout",
     "output_type": "stream",
     "text": [
      "apple\n",
      "byte\n"
     ]
    }
   ],
   "source": [
    "tuple = (\"apple\",\"byte\",\"computer\")\n",
    "n = 2\n",
    "for i in range(n):\n",
    "   print(tuple[i]) "
   ]
  },
  {
   "cell_type": "code",
   "execution_count": null,
   "id": "d631f6ca-316d-48e7-8214-39874883ab39",
   "metadata": {},
   "outputs": [],
   "source": []
  }
 ],
 "metadata": {
  "kernelspec": {
   "display_name": "Python 3 (ipykernel)",
   "language": "python",
   "name": "python3"
  },
  "language_info": {
   "codemirror_mode": {
    "name": "ipython",
    "version": 3
   },
   "file_extension": ".py",
   "mimetype": "text/x-python",
   "name": "python",
   "nbconvert_exporter": "python",
   "pygments_lexer": "ipython3",
   "version": "3.12.6"
  }
 },
 "nbformat": 4,
 "nbformat_minor": 5
}
