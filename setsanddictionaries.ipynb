{
 "cells": [
  {
   "cell_type": "code",
   "execution_count": 1,
   "id": "95682a13-d8f9-43dd-a111-efe8b68d0272",
   "metadata": {},
   "outputs": [
    {
     "data": {
      "text/plain": [
       "dict"
      ]
     },
     "execution_count": 1,
     "metadata": {},
     "output_type": "execute_result"
    }
   ],
   "source": [
    "v = {}\n",
    "type(v)"
   ]
  },
  {
   "cell_type": "code",
   "execution_count": 3,
   "id": "6235f671-7c85-420f-bde5-84cca833a549",
   "metadata": {},
   "outputs": [
    {
     "name": "stdout",
     "output_type": "stream",
     "text": [
      "{2, 3, 4, 56, 12}\n"
     ]
    }
   ],
   "source": [
    "values = {12,2,3,4,56,56}\n",
    "print(values)"
   ]
  },
  {
   "cell_type": "code",
   "execution_count": 5,
   "id": "528d3675-f577-4b11-92b9-f053c2e528c7",
   "metadata": {},
   "outputs": [
    {
     "name": "stdout",
     "output_type": "stream",
     "text": [
      "set()\n"
     ]
    }
   ],
   "source": [
    "set1 = set()\n",
    "print(set1)\n"
   ]
  },
  {
   "cell_type": "code",
   "execution_count": 6,
   "id": "dd3e113c-16e6-4353-ac4d-56830f500070",
   "metadata": {},
   "outputs": [
    {
     "data": {
      "text/plain": [
       "{2, 5, 9.4, 'PYTHON', 'a'}"
      ]
     },
     "execution_count": 6,
     "metadata": {},
     "output_type": "execute_result"
    }
   ],
   "source": [
    "value_set = {2, 'PYTHON', 'a',5,9.4}\n",
    "value_set"
   ]
  },
  {
   "cell_type": "markdown",
   "id": "e12685c8-7896-420c-8014-bd123630649b",
   "metadata": {},
   "source": [
    "write a python code to access an element in the set"
   ]
  },
  {
   "cell_type": "code",
   "execution_count": 8,
   "id": "a8c25487-c0e4-46cf-853b-17b8a004a211",
   "metadata": {},
   "outputs": [
    {
     "data": {
      "text/plain": [
       "{2, 5, 9.4, 'PYTHON', 'a', 'apple'}"
      ]
     },
     "execution_count": 8,
     "metadata": {},
     "output_type": "execute_result"
    }
   ],
   "source": [
    "value_set.add(\"apple\")\n",
    "value_set"
   ]
  },
  {
   "cell_type": "markdown",
   "id": "3421a051-43d2-4f66-9688-c7c575e9f971",
   "metadata": {},
   "source": [
    "deleting a element in a set"
   ]
  },
  {
   "cell_type": "code",
   "execution_count": 3,
   "id": "ad7c69a0-2136-49be-9351-95c78086e498",
   "metadata": {},
   "outputs": [
    {
     "data": {
      "text/plain": [
       "{2, 5, 9.4, 'PYTHON', 'a'}"
      ]
     },
     "execution_count": 3,
     "metadata": {},
     "output_type": "execute_result"
    }
   ],
   "source": [
    "v = {2, 'PYTHON', 'a', 5, 9.4}\n",
    "v"
   ]
  },
  {
   "cell_type": "code",
   "execution_count": 5,
   "id": "04df5dc2-a9fe-484b-85de-06f7537700dc",
   "metadata": {},
   "outputs": [
    {
     "data": {
      "text/plain": [
       "{2, 5, 9.4, 'a'}"
      ]
     },
     "execution_count": 5,
     "metadata": {},
     "output_type": "execute_result"
    }
   ],
   "source": [
    "v.remove('PYTHON')\n",
    "v\n"
   ]
  },
  {
   "cell_type": "markdown",
   "id": "373fef67-5b66-4347-b3dd-ecac98333ddd",
   "metadata": {},
   "source": [
    "write a python code to get the set elements from the user and print the elements in the created set?\n"
   ]
  },
  {
   "cell_type": "code",
   "execution_count": 2,
   "id": "0345939d-5ee0-4d6f-8dc0-856fa248380b",
   "metadata": {},
   "outputs": [
    {
     "name": "stdin",
     "output_type": "stream",
     "text": [
      " 4\n",
      " 12\n",
      " 26\n",
      " 10\n",
      " 4\n"
     ]
    }
   ],
   "source": [
    "value_set = set()\n",
    "n = int(input())\n",
    "for i in range (n):\n",
    "    value_set.add(int(input()))"
   ]
  },
  {
   "cell_type": "code",
   "execution_count": 3,
   "id": "c48f947a-c977-4233-97e1-954d0b51c1e6",
   "metadata": {},
   "outputs": [
    {
     "data": {
      "text/plain": [
       "{4, 10, 12, 26}"
      ]
     },
     "execution_count": 3,
     "metadata": {},
     "output_type": "execute_result"
    }
   ],
   "source": [
    "value_set"
   ]
  },
  {
   "cell_type": "code",
   "execution_count": 4,
   "id": "403c37e1-e85e-4304-94b4-cd5326b04397",
   "metadata": {},
   "outputs": [
    {
     "name": "stdout",
     "output_type": "stream",
     "text": [
      "26\n",
      "10\n",
      "12\n",
      "4\n"
     ]
    }
   ],
   "source": [
    "for i in value_set:\n",
    "    print(i)"
   ]
  },
  {
   "cell_type": "markdown",
   "id": "0ad9c210-783e-4a45-8164-7a48fc69fee2",
   "metadata": {},
   "source": [
    "write a python code to check whether the element got from the user is preentin the value_set\n"
   ]
  },
  {
   "cell_type": "code",
   "execution_count": 24,
   "id": "76aee460-f0f0-41fe-bbd3-bb9aa0f97775",
   "metadata": {},
   "outputs": [
    {
     "name": "stdin",
     "output_type": "stream",
     "text": [
      " hey\n"
     ]
    },
    {
     "name": "stdout",
     "output_type": "stream",
     "text": [
      "invalid\n"
     ]
    }
   ],
   "source": [
    "value_set = {6,'hey',26,10}\n",
    "n = input()\n",
    "for n in value_set:\n",
    "    if n == value_set:\n",
    "        print(\"The input is correct\")\n",
    "        break\n",
    "    else:\n",
    "        print(\"invalid\")\n",
    "        break"
   ]
  },
  {
   "cell_type": "markdown",
   "id": "6f3a4b54-3176-4bbb-8323-a726933bae0d",
   "metadata": {},
   "source": [
    "UNION OF TWO SETS\n"
   ]
  },
  {
   "cell_type": "code",
   "execution_count": 33,
   "id": "5db38cd1-86c6-498a-aeb5-85596dbb914e",
   "metadata": {},
   "outputs": [
    {
     "data": {
      "text/plain": [
       "{'august', 'jan', 'july', 'june', 'may'}"
      ]
     },
     "execution_count": 33,
     "metadata": {},
     "output_type": "execute_result"
    }
   ],
   "source": [
    "month1_set = {\"jan\",\"feb\",\"march\",\"april\",\"august\"}\n",
    "month2_set = {\"may\",\"june\",\"july\",\"august\",\"jan\"}\n",
    "month2_set"
   ]
  },
  {
   "cell_type": "code",
   "execution_count": 34,
   "id": "867bfd3d-1a53-4c59-b43b-7bba5bfc3a54",
   "metadata": {},
   "outputs": [
    {
     "data": {
      "text/plain": [
       "{'april', 'august', 'feb', 'jan', 'july', 'june', 'march', 'may'}"
      ]
     },
     "execution_count": 34,
     "metadata": {},
     "output_type": "execute_result"
    }
   ],
   "source": [
    "month = month1_set| month2_set\n",
    "month"
   ]
  },
  {
   "cell_type": "code",
   "execution_count": 35,
   "id": "f93c1a63-7985-47b9-ae99-3122590256b5",
   "metadata": {},
   "outputs": [
    {
     "data": {
      "text/plain": [
       "{'april', 'august', 'feb', 'jan', 'july', 'june', 'march', 'may'}"
      ]
     },
     "execution_count": 35,
     "metadata": {},
     "output_type": "execute_result"
    }
   ],
   "source": [
    "month_common = month1_set.union(month2_set)\n",
    "month_common"
   ]
  },
  {
   "cell_type": "markdown",
   "id": "e668a12a-ded9-48fe-8954-645af1dace16",
   "metadata": {},
   "source": [
    "INTERSECTION OF TWO SETS"
   ]
  },
  {
   "cell_type": "code",
   "execution_count": 36,
   "id": "ace69991-fce7-40d5-8412-552d616aef11",
   "metadata": {},
   "outputs": [
    {
     "data": {
      "text/plain": [
       "{'august', 'jan'}"
      ]
     },
     "execution_count": 36,
     "metadata": {},
     "output_type": "execute_result"
    }
   ],
   "source": [
    "common = month1_set.intersection(month2_set)\n",
    "common"
   ]
  },
  {
   "cell_type": "code",
   "execution_count": 37,
   "id": "6528f2f4-7791-4451-92f9-781ba2d1f13e",
   "metadata": {},
   "outputs": [
    {
     "data": {
      "text/plain": [
       "{'august', 'jan'}"
      ]
     },
     "execution_count": 37,
     "metadata": {},
     "output_type": "execute_result"
    }
   ],
   "source": [
    "common = month1_set & month2_set\n",
    "common"
   ]
  },
  {
   "cell_type": "markdown",
   "id": "49c60268-b0be-4176-b6e0-75415ee7587d",
   "metadata": {},
   "source": [
    "DIFFRENCE OF TWO SETS\n"
   ]
  },
  {
   "cell_type": "code",
   "execution_count": 39,
   "id": "51e0d4dd-0eab-46e5-961f-32f22c1ae811",
   "metadata": {},
   "outputs": [
    {
     "data": {
      "text/plain": [
       "{'april', 'feb', 'march'}"
      ]
     },
     "execution_count": 39,
     "metadata": {},
     "output_type": "execute_result"
    }
   ],
   "source": [
    "diff = month1_set - month2_set\n",
    "diff\n"
   ]
  },
  {
   "cell_type": "code",
   "execution_count": 40,
   "id": "ac7fcaf4-9c57-49fc-a837-5026867a0d7f",
   "metadata": {},
   "outputs": [
    {
     "data": {
      "text/plain": [
       "{'april', 'feb', 'march'}"
      ]
     },
     "execution_count": 40,
     "metadata": {},
     "output_type": "execute_result"
    }
   ],
   "source": [
    "diff= month1_set.difference(month2_set)\n",
    "diff"
   ]
  },
  {
   "cell_type": "markdown",
   "id": "e6d850dc-b7d0-41f4-aea6-5acd129d39b8",
   "metadata": {},
   "source": [
    "SET COMPARISIONS"
   ]
  },
  {
   "cell_type": "code",
   "execution_count": 41,
   "id": "fec4fe55-e5d4-4082-b4b3-efad3be0a480",
   "metadata": {},
   "outputs": [],
   "source": [
    "month1_set = {\"jan\",\"feb\",\"dec\",\"mar\"}\n",
    "month2_set = {\"jan\",\"feb\"}\n"
   ]
  },
  {
   "cell_type": "code",
   "execution_count": 42,
   "id": "3d6f4bb8-10aa-4d8d-a82b-e64272a5fa12",
   "metadata": {},
   "outputs": [
    {
     "data": {
      "text/plain": [
       "True"
      ]
     },
     "execution_count": 42,
     "metadata": {},
     "output_type": "execute_result"
    }
   ],
   "source": [
    "month1_set > month2_set"
   ]
  },
  {
   "cell_type": "code",
   "execution_count": 43,
   "id": "0d06c76f-910d-4bc3-8206-5aa03ba3c9ae",
   "metadata": {},
   "outputs": [
    {
     "data": {
      "text/plain": [
       "False"
      ]
     },
     "execution_count": 43,
     "metadata": {},
     "output_type": "execute_result"
    }
   ],
   "source": [
    "month1_set < month2_set"
   ]
  },
  {
   "cell_type": "markdown",
   "id": "9c1b764e-3873-459e-a17d-b6cadf2d9591",
   "metadata": {},
   "source": [
    "DICTIONARIES"
   ]
  },
  {
   "cell_type": "code",
   "execution_count": null,
   "id": "de3eea28-6f56-4a7b-a23b-76ac844370f2",
   "metadata": {},
   "outputs": [],
   "source": []
  },
  {
   "cell_type": "code",
   "execution_count": 1,
   "id": "04228ed6-1881-4b52-b07c-e41cc747c26d",
   "metadata": {},
   "outputs": [
    {
     "name": "stdout",
     "output_type": "stream",
     "text": [
      "{}\n"
     ]
    }
   ],
   "source": [
    "dic = {}\n",
    "print(dic)"
   ]
  },
  {
   "cell_type": "code",
   "execution_count": 2,
   "id": "b72c51f8-9501-4b0a-aa7f-739dbd1c6323",
   "metadata": {},
   "outputs": [
    {
     "name": "stdout",
     "output_type": "stream",
     "text": [
      "{1: 'focus', 2: 'Academy', 3: 'for', 4: 'career'}\n"
     ]
    }
   ],
   "source": [
    "dic = {1:\"focus\",2:\"Academy\", 3:\"for\",4:\"career\"}\n",
    "print(dic)"
   ]
  },
  {
   "cell_type": "code",
   "execution_count": 3,
   "id": "3f359deb-7b40-4ca0-a63f-345c21a6d7c2",
   "metadata": {},
   "outputs": [
    {
     "name": "stdout",
     "output_type": "stream",
     "text": [
      "{1: [2, 4, 5], 'Name': 'face', 4: [5, 7]}\n"
     ]
    }
   ],
   "source": [
    "dic = dict({1:[2,4,5],\"Name\": \"face\", 4:[5,7]})\n",
    "print(dic)"
   ]
  },
  {
   "cell_type": "code",
   "execution_count": 6,
   "id": "2fd6b50e-7e00-4564-9e88-e8580c5591d0",
   "metadata": {},
   "outputs": [
    {
     "name": "stdout",
     "output_type": "stream",
     "text": [
      "{1: 'FACE', 2: 4, 3: {5: 'hello', 6: 9.5}}\n"
     ]
    }
   ],
   "source": [
    "dic = {1:\"FACE\", 2:4, 3 :{5:\"hello\",6:9.5}}\n",
    "print(dic)"
   ]
  },
  {
   "cell_type": "markdown",
   "id": "159982c7-7d83-407f-8055-680c92ae8d97",
   "metadata": {},
   "source": [
    "basic set comprehension"
   ]
  },
  {
   "cell_type": "code",
   "execution_count": 1,
   "id": "80cac89d-387b-4d2c-af59-9ac9fd31bf53",
   "metadata": {},
   "outputs": [
    {
     "name": "stdout",
     "output_type": "stream",
     "text": [
      "{1, 4, 9, 16, 25}\n"
     ]
    }
   ],
   "source": [
    "numbers = [1,2,3,4,5]\n",
    "squared_numbers = {x**2 for x in numbers}\n",
    "print(squared_numbers)"
   ]
  },
  {
   "cell_type": "code",
   "execution_count": 2,
   "id": "ad09fb94-0071-448e-8b74-5db25b6da2ce",
   "metadata": {},
   "outputs": [
    {
     "name": "stdout",
     "output_type": "stream",
     "text": [
      "{'banana', 'apple', 'cherry'}\n"
     ]
    }
   ],
   "source": [
    "words = ['apple','banana','cherry','lyn']\n",
    "vowels = {'a','e','i','o','u'}\n",
    "vowel_words = {word for word in words if any (letter in vowels for letter in word)}\n",
    "print(vowel_words)"
   ]
  },
  {
   "cell_type": "code",
   "execution_count": 4,
   "id": "53eba7c9-3969-44fa-8eb2-0f995f2e2d93",
   "metadata": {},
   "outputs": [
    {
     "name": "stdout",
     "output_type": "stream",
     "text": [
      "{1, 4, 36, 9, 16, 25}\n"
     ]
    }
   ],
   "source": [
    "duplicates = [1,2,3,4,5,3,1,6]\n",
    "unique_squares = {x**2 for x in duplicates}\n",
    "print(unique_squares)"
   ]
  },
  {
   "cell_type": "code",
   "execution_count": 5,
   "id": "255fc983-59e4-4cee-8893-36ca11e7886e",
   "metadata": {},
   "outputs": [
    {
     "name": "stdout",
     "output_type": "stream",
     "text": [
      "{'R', 'E', 'H', 'O', 'W', 'L', 'D'}\n"
     ]
    }
   ],
   "source": [
    "text = \"hello world\"\n",
    "uppercase_letters = {char.upper() for char in text if char.isalpha()}\n",
    "print(uppercase_letters)"
   ]
  },
  {
   "cell_type": "markdown",
   "id": "63379b03-b610-4960-afb2-be8457adec7b",
   "metadata": {},
   "source": [
    "dictionary comprehension\n"
   ]
  },
  {
   "cell_type": "code",
   "execution_count": 6,
   "id": "aa2de95b-0541-4927-aef9-84284af17c02",
   "metadata": {},
   "outputs": [
    {
     "name": "stdout",
     "output_type": "stream",
     "text": [
      "{0: 0, 1: 1, 2: 4, 3: 9, 4: 16}\n"
     ]
    }
   ],
   "source": [
    "squares ={x:x**2 for x in range (5)}\n",
    "print (squares)"
   ]
  },
  {
   "cell_type": "code",
   "execution_count": 7,
   "id": "55749659-01be-4e57-9520-7a7c8118a926",
   "metadata": {},
   "outputs": [
    {
     "name": "stdout",
     "output_type": "stream",
     "text": [
      "{0: 0, 2: 8, 4: 64, 6: 216, 8: 512}\n"
     ]
    }
   ],
   "source": [
    "cubes = {x:x**3 for x in range (10) if x % 2 == 0}\n",
    "print(cubes)"
   ]
  },
  {
   "cell_type": "code",
   "execution_count": 8,
   "id": "cae3cc60-c555-4608-b838-5cbd1b797b84",
   "metadata": {},
   "outputs": [
    {
     "name": "stdout",
     "output_type": "stream",
     "text": [
      "{'a': 1, 'b': 2, 'c': 3}\n"
     ]
    }
   ],
   "source": [
    "keys = ['a','b','c']\n",
    "values = [1,2,3]\n",
    "my_dict = {keys[i] : values[i]for i in range (len(keys))}\n",
    "print(my_dict)"
   ]
  },
  {
   "cell_type": "markdown",
   "id": "bd093d1f-687a-4cfc-9520-77daea02770e",
   "metadata": {},
   "source": [
    "swapping keys and values"
   ]
  },
  {
   "cell_type": "code",
   "execution_count": 9,
   "id": "2dea7fee-71c3-483a-80c7-64bf5887ca0d",
   "metadata": {},
   "outputs": [
    {
     "name": "stdout",
     "output_type": "stream",
     "text": [
      "{1: 'a', 2: 'b', 3: 'c'}\n"
     ]
    }
   ],
   "source": [
    "original = {'a':1,'b':2,'c':3}\n",
    "swapped = {v: k for k , v in original .items()}\n",
    "print(swapped)"
   ]
  },
  {
   "cell_type": "code",
   "execution_count": 10,
   "id": "fc038829-b952-4b22-abdf-7931319e173f",
   "metadata": {},
   "outputs": [
    {
     "name": "stdout",
     "output_type": "stream",
     "text": [
      "{'a': 10, 'b': 20, 'c': 30}\n"
     ]
    }
   ],
   "source": [
    "original = {'a':1,'b':2,'c':3}\n",
    "transformed = {k:v * 10 for k , v in original.items()}\n",
    "print(transformed)"
   ]
  },
  {
   "cell_type": "code",
   "execution_count": 11,
   "id": "65041db2-c248-438e-b6c3-e48e4442456b",
   "metadata": {},
   "outputs": [
    {
     "name": "stdout",
     "output_type": "stream",
     "text": [
      "{1: {'square': 1, 'cube': 1}, 2: {'square': 4, 'cube': 8}, 3: {'square': 9, 'cube': 27}, 4: {'square': 16, 'cube': 64}}\n"
     ]
    }
   ],
   "source": [
    "numbers = [1,2,3,4]\n",
    "nested_dict = {x : {'square':x**2, \"cube\":x**3} for x in numbers}\n",
    "print(nested_dict)"
   ]
  },
  {
   "cell_type": "code",
   "execution_count": null,
   "id": "3c9eab3d-5bf4-4e54-9e7e-eb91c3fb6759",
   "metadata": {},
   "outputs": [],
   "source": [
    "keys = ['a','b','c','d']\n",
    "values = [1,2,3,4]\n",
    "filtered_dict =  {keys"
   ]
  },
  {
   "cell_type": "code",
   "execution_count": null,
   "id": "04c98d0a-c166-4ccc-9307-158feb14e8be",
   "metadata": {},
   "outputs": [],
   "source": []
  }
 ],
 "metadata": {
  "kernelspec": {
   "display_name": "Python 3 (ipykernel)",
   "language": "python",
   "name": "python3"
  },
  "language_info": {
   "codemirror_mode": {
    "name": "ipython",
    "version": 3
   },
   "file_extension": ".py",
   "mimetype": "text/x-python",
   "name": "python",
   "nbconvert_exporter": "python",
   "pygments_lexer": "ipython3",
   "version": "3.12.6"
  }
 },
 "nbformat": 4,
 "nbformat_minor": 5
}
