{
 "cells": [
  {
   "cell_type": "code",
   "execution_count": 1,
   "id": "368e9c31-d6a7-4788-9766-67b394a01b59",
   "metadata": {},
   "outputs": [
    {
     "name": "stdout",
     "output_type": "stream",
     "text": [
      "1\n",
      "2\n",
      "3\n",
      "4\n",
      "5\n"
     ]
    }
   ],
   "source": [
    "n = 5 \n",
    "sum = 1+2+3+4+5\n",
    "for i in range (1,n+1):\n",
    "    print(i)\n",
    "    sum += i"
   ]
  },
  {
   "cell_type": "code",
   "execution_count": 4,
   "id": "0b8f10cd-1315-4d9e-84ba-feeae276cb09",
   "metadata": {},
   "outputs": [
    {
     "name": "stdin",
     "output_type": "stream",
     "text": [
      " 5\n"
     ]
    },
    {
     "name": "stdout",
     "output_type": "stream",
     "text": [
      "5\n"
     ]
    }
   ],
   "source": [
    "n = int (input())\n",
    "sum = 0\n",
    "for i in range (1,n+1):\n",
    "    sum=+i\n",
    "\n",
    "print(sum)"
   ]
  },
  {
   "cell_type": "code",
   "execution_count": null,
   "id": "61c8d78f-86ee-4720-aeb0-4e4c11f9b2e6",
   "metadata": {},
   "outputs": [],
   "source": []
  }
 ],
 "metadata": {
  "kernelspec": {
   "display_name": "Python 3 (ipykernel)",
   "language": "python",
   "name": "python3"
  },
  "language_info": {
   "codemirror_mode": {
    "name": "ipython",
    "version": 3
   },
   "file_extension": ".py",
   "mimetype": "text/x-python",
   "name": "python",
   "nbconvert_exporter": "python",
   "pygments_lexer": "ipython3",
   "version": "3.12.6"
  }
 },
 "nbformat": 4,
 "nbformat_minor": 5
}
