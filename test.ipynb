{
 "cells": [
  {
   "cell_type": "code",
   "execution_count": null,
   "id": "e3a20421-82a8-4c57-b453-74588bdc152b",
   "metadata": {},
   "outputs": [],
   "source": [
    "birth = int(input(\"enter the birth year\"))\n",
    "currentyear = int(input())\n",
    "age = current - birth\n",
    "if (current<birth):\n",
    "    print(current)"
   ]
  },
  {
   "cell_type": "code",
   "execution_count": 3,
   "id": "21878694-7325-451f-afa6-412e27f99ba3",
   "metadata": {},
   "outputs": [
    {
     "name": "stdin",
     "output_type": "stream",
     "text": [
      "enter the age 13\n",
      "enter the time 10.15\n"
     ]
    },
    {
     "name": "stdout",
     "output_type": "stream",
     "text": [
      "the price is 8 dollar\n"
     ]
    }
   ],
   "source": [
    "a = int(input(\"enter the age\"))\n",
    "time= float(input(\"enter the time\"))\n",
    "if a >= 13 and time == 10.15 or (time == 13.30):\n",
    "    print(\"the price is 8 dollar\")\n",
    "elif age > 13 and time == 18.00 or (time == 22.00):\n",
    "    print(\"The price is 5 dollar\")\n",
    "elif age<13 and time == 10.15 or (time == 13.30):\n",
    "    print(\"the price is 4 dollar\")\n",
    "elif age <13 and time == 18.00 or (time == 22.00):\n",
    "    print(\"the price is 2 dollars\")\n",
    "else:\n",
    "    print(\"invalid\")"
   ]
  },
  {
   "cell_type": "code",
   "execution_count": null,
   "id": "ca84bf04-8b52-4a45-aa37-c05c3481aebf",
   "metadata": {},
   "outputs": [],
   "source": []
  },
  {
   "cell_type": "code",
   "execution_count": null,
   "id": "aa913598-1a6b-4dbe-bec4-0bc17ead79cb",
   "metadata": {},
   "outputs": [],
   "source": []
  }
 ],
 "metadata": {
  "kernelspec": {
   "display_name": "Python 3 (ipykernel)",
   "language": "python",
   "name": "python3"
  },
  "language_info": {
   "codemirror_mode": {
    "name": "ipython",
    "version": 3
   },
   "file_extension": ".py",
   "mimetype": "text/x-python",
   "name": "python",
   "nbconvert_exporter": "python",
   "pygments_lexer": "ipython3",
   "version": "3.12.6"
  }
 },
 "nbformat": 4,
 "nbformat_minor": 5
}
