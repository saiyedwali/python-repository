{
 "cells": [
  {
   "cell_type": "code",
   "execution_count": 1,
   "id": "526e767c-a4de-4640-8b5c-eb2a5f073189",
   "metadata": {},
   "outputs": [
    {
     "name": "stdout",
     "output_type": "stream",
     "text": [
      "{1: 1, 2: 2, 3: 1, 4: 3, 5: 1}\n"
     ]
    }
   ],
   "source": [
    "def count_frequency(lst):\n",
    "    return {x: lst.count(x) for x in lst}\n",
    "\n",
    "# Example\n",
    "print(count_frequency([1, 2, 2, 3, 4, 4, 4, 5]))"
   ]
  },
  {
   "cell_type": "code",
   "execution_count": 2,
   "id": "7ee60f47-82e6-465a-ba46-f80b365540d7",
   "metadata": {},
   "outputs": [
    {
     "name": "stdout",
     "output_type": "stream",
     "text": [
      "Uppercase characters: 3\n",
      "Lowercase characters: 12\n"
     ]
    }
   ],
   "source": [
    "def count_case(s):\n",
    "    upper = sum(1 for c in s if c.isupper())\n",
    "    lower = sum(1 for c in s if c.islower())\n",
    "    return upper, lower\n",
    "\n",
    "# Example\n",
    "string = \"The quick Brow Fox\"\n",
    "upper, lower = count_case(string)\n",
    "print(f\"Uppercase characters: {upper}\")\n",
    "print(f\"Lowercase characters: {lower}\")"
   ]
  },
  {
   "cell_type": "code",
   "execution_count": 6,
   "id": "d62f6d2d-86a4-4482-a0f8-659b84415452",
   "metadata": {},
   "outputs": [
    {
     "name": "stdin",
     "output_type": "stream",
     "text": [
      "Enter numbers :  10\n"
     ]
    },
    {
     "name": "stdout",
     "output_type": "stream",
     "text": [
      "[20]\n"
     ]
    },
    {
     "name": "stdin",
     "output_type": "stream",
     "text": [
      "Enter numbers (comma-separated):  20\n"
     ]
    },
    {
     "name": "stdout",
     "output_type": "stream",
     "text": [
      "[40]\n"
     ]
    }
   ],
   "source": [
    "# def process_numbers():\n",
    "numbers = [int(x) for x in input(\"Enter numbers : \").split(',')]\n",
    "result = [x * 2 for x in numbers if x >= 10]\n",
    "print(result)\n",
    "\n",
    "process_numbers()"
   ]
  },
  {
   "cell_type": "code",
   "execution_count": null,
   "id": "1d361fc5-925e-4300-8e09-699ef6149024",
   "metadata": {},
   "outputs": [],
   "source": []
  }
 ],
 "metadata": {
  "kernelspec": {
   "display_name": "Python 3 (ipykernel)",
   "language": "python",
   "name": "python3"
  },
  "language_info": {
   "codemirror_mode": {
    "name": "ipython",
    "version": 3
   },
   "file_extension": ".py",
   "mimetype": "text/x-python",
   "name": "python",
   "nbconvert_exporter": "python",
   "pygments_lexer": "ipython3",
   "version": "3.12.6"
  }
 },
 "nbformat": 4,
 "nbformat_minor": 5
}
