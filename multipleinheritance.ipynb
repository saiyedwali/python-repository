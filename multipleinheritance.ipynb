{
 "cells": [
  {
   "cell_type": "code",
   "execution_count": 1,
   "id": "74560acb-a3b7-4716-b04f-196af34febe6",
   "metadata": {},
   "outputs": [
    {
     "name": "stdout",
     "output_type": "stream",
     "text": [
      "Hotel Name: Grand Palace\n",
      "Address: 123 Street, City\n",
      "Mobile: 9876543210\n",
      "Normal Room Rent: 500 perday\n",
      "AC Room Rent: 600 perday\n",
      "Suite Room Rent: 900 perday\n"
     ]
    }
   ],
   "source": [
    "# Base Class\n",
    "class NormalRoom:\n",
    "    def calculate(self, no_rooms, days):\n",
    "        if days == 1:\n",
    "            rent = 300\n",
    "        elif 1 < days <= 5:\n",
    "            rent = 250\n",
    "        else:\n",
    "            rent = 200\n",
    "        return no_rooms * rent\n",
    "\n",
    "\n",
    "class AC_Room:\n",
    "    def calculate(self, no_rooms, days):\n",
    "        if days == 1:\n",
    "            rent = 450\n",
    "        elif 1 < days <= 5:\n",
    "            rent = 300\n",
    "        else:\n",
    "            rent = 250\n",
    "        return no_rooms * rent\n",
    "\n",
    "\n",
    "class Suite_Room:\n",
    "    def calculate(self, no_rooms, days):\n",
    "        if days == 1:\n",
    "            rent = 550\n",
    "        elif 1 < days <= 5:\n",
    "            rent = 500\n",
    "        else:\n",
    "            rent = 450\n",
    "        return no_rooms * rent\n",
    "\n",
    "\n",
    "# Derived Class\n",
    "class Hotel(NormalRoom, AC_Room, Suite_Room):\n",
    "    def display(self, name, address, mobile):\n",
    "        print(f\"Hotel Name: {name}\")\n",
    "        print(f\"Address: {address}\")\n",
    "        print(f\"Mobile: {mobile}\")\n",
    "\n",
    "\n",
    "# Example Usage\n",
    "hotel = Hotel()\n",
    "hotel.display(\"Grand Palace\", \"123 Street, City\", \"9876543210\")\n",
    "\n",
    "normal_rent = hotel.calculate(no_rooms=2, days=3)  \n",
    "print(f\"Normal Room Rent: {normal_rent} perday\")\n",
    "\n",
    "# AC Room Calculation\n",
    "ac_rent = AC_Room().calculate(no_rooms=2, days=4)  # Specific to AC_Room\n",
    "print(f\"AC Room Rent: {ac_rent} perday\")\n",
    "\n",
    "# Suite Room Calculation\n",
    "suite_rent = Suite_Room().calculate(no_rooms=2, days=6)  \n",
    "print(f\"Suite Room Rent: {suite_rent} perday\")"
   ]
  },
  {
   "cell_type": "code",
   "execution_count": null,
   "id": "fc10beee-37c6-4b31-92f7-86089eadc5d0",
   "metadata": {},
   "outputs": [],
   "source": []
  }
 ],
 "metadata": {
  "kernelspec": {
   "display_name": "Python 3 (ipykernel)",
   "language": "python",
   "name": "python3"
  },
  "language_info": {
   "codemirror_mode": {
    "name": "ipython",
    "version": 3
   },
   "file_extension": ".py",
   "mimetype": "text/x-python",
   "name": "python",
   "nbconvert_exporter": "python",
   "pygments_lexer": "ipython3",
   "version": "3.12.6"
  }
 },
 "nbformat": 4,
 "nbformat_minor": 5
}
