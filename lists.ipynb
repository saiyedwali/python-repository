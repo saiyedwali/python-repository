{
 "cells": [
  {
   "cell_type": "markdown",
   "id": "6b6eb054-9490-4fdb-bcd9-275d68811129",
   "metadata": {},
   "source": [
    "indexing\n"
   ]
  },
  {
   "cell_type": "code",
   "execution_count": 1,
   "id": "ff2d80d9-9790-4cb5-9d06-7a6b60da3620",
   "metadata": {},
   "outputs": [],
   "source": [
    "a = [10,20,30,40]\n"
   ]
  },
  {
   "cell_type": "markdown",
   "id": "35952abf-a6c0-4904-a7fe-396c0f26c7af",
   "metadata": {},
   "source": [
    "what is the way to print all the elements in the list?"
   ]
  },
  {
   "cell_type": "code",
   "execution_count": 3,
   "id": "e946bba1-645b-4502-b269-081f9b09ad2a",
   "metadata": {},
   "outputs": [
    {
     "name": "stdout",
     "output_type": "stream",
     "text": [
      "10 20 30 40 "
     ]
    }
   ],
   "source": [
    "for i in a:\n",
    "    print(i,end=\" \")"
   ]
  },
  {
   "cell_type": "markdown",
   "id": "a49ac918-4caf-4ed1-b6b7-5dd164c5b731",
   "metadata": {},
   "source": [
    "how to check whether the element is present in the list or not ?"
   ]
  },
  {
   "cell_type": "markdown",
   "id": "04d0f4cc-8d3e-4126-b354-0da0d379d3f6",
   "metadata": {},
   "source": [
    "Example :"
   ]
  },
  {
   "cell_type": "markdown",
   "id": "7435a885-0a86-45a6-9385-85ce5c35883a",
   "metadata": {},
   "source": [
    " Need to check whether element 30 is present in the above list or not"
   ]
  },
  {
   "cell_type": "code",
   "execution_count": 5,
   "id": "d46d5639-346b-47a2-8dd7-8136b7f17bc6",
   "metadata": {},
   "outputs": [
    {
     "name": "stdout",
     "output_type": "stream",
     "text": [
      "not found\n",
      "not found\n",
      "value found\n"
     ]
    }
   ],
   "source": [
    "for i in a :\n",
    "    if i ==30:\n",
    "        print(\"value found\")\n",
    "        break \n",
    "    else:\n",
    "        print(\"not found\")\n",
    "    "
   ]
  },
  {
   "cell_type": "markdown",
   "id": "60448eda-3b7d-4e5c-97d1-11e84488a8e4",
   "metadata": {},
   "source": [
    "using while loop"
   ]
  },
  {
   "cell_type": "code",
   "execution_count": 6,
   "id": "db70147e-eb25-486c-9473-b1da1d4b980b",
   "metadata": {},
   "outputs": [
    {
     "name": "stdout",
     "output_type": "stream",
     "text": [
      "not found\n",
      "not found\n",
      "value found\n"
     ]
    }
   ],
   "source": [
    "a = [10, 20, 30, 40, 50]  \n",
    "i = 0\n",
    "\n",
    "while i < len(a):\n",
    "    if a[i] == 30:\n",
    "        print(\"value found\")\n",
    "        break\n",
    "    else:\n",
    "        print(\"not found\")\n",
    "    i += 1"
   ]
  },
  {
   "cell_type": "markdown",
   "id": "35961826-c1fd-42b8-b014-0d25b788d21b",
   "metadata": {},
   "source": [
    "write a python code to find the  index value of ta number 30 in the list a (a=[10,20,30,40])"
   ]
  },
  {
   "cell_type": "code",
   "execution_count": 7,
   "id": "1037202a-c7d4-422f-8326-226c6619620f",
   "metadata": {},
   "outputs": [
    {
     "name": "stdout",
     "output_type": "stream",
     "text": [
      "2\n"
     ]
    }
   ],
   "source": [
    "for i in range (len(a)):\n",
    "    if a [i]==30:\n",
    "        print(i)\n",
    "        break"
   ]
  },
  {
   "cell_type": "markdown",
   "id": "2ffb08ba-909a-4cbd-948a-9034ccf981db",
   "metadata": {},
   "source": [
    "is it possible without loop?"
   ]
  },
  {
   "cell_type": "code",
   "execution_count": 10,
   "id": "b7d367fb-45bc-4298-8d1f-81ca42534950",
   "metadata": {},
   "outputs": [
    {
     "name": "stdout",
     "output_type": "stream",
     "text": [
      "5\n"
     ]
    }
   ],
   "source": [
    "a = [1,2,3,4,5,6,7,8]\n",
    "print(a.index(6))"
   ]
  },
  {
   "cell_type": "code",
   "execution_count": 13,
   "id": "8fe78352-db59-4d58-a903-78ba52d1195b",
   "metadata": {},
   "outputs": [
    {
     "name": "stdout",
     "output_type": "stream",
     "text": [
      "35\n"
     ]
    }
   ],
   "source": [
    "a=[1,2,3,4,5,6,7,6,8,7,56,67,5,6,3,56,564,455,3,355,776,75,332,778,9876,43,34,5654,32,34,56,65,43,45,67]\n",
    "print(len(a))"
   ]
  },
  {
   "cell_type": "markdown",
   "id": "30972d87-3eef-4806-8925-4b31d964ae07",
   "metadata": {},
   "source": [
    "it shows the last value of the list"
   ]
  },
  {
   "cell_type": "code",
   "execution_count": 14,
   "id": "fdd508de-f78a-4d70-b40e-5d74fb656dd0",
   "metadata": {},
   "outputs": [
    {
     "data": {
      "text/plain": [
       "67"
      ]
     },
     "execution_count": 14,
     "metadata": {},
     "output_type": "execute_result"
    }
   ],
   "source": [
    "a[len(a)-1]"
   ]
  },
  {
   "cell_type": "code",
   "execution_count": 16,
   "id": "284126c2-b485-42e8-b68f-a619bc711924",
   "metadata": {},
   "outputs": [
    {
     "data": {
      "text/plain": [
       "65"
      ]
     },
     "execution_count": 16,
     "metadata": {},
     "output_type": "execute_result"
    }
   ],
   "source": [
    "a[len(a)-4]"
   ]
  },
  {
   "cell_type": "markdown",
   "id": "f3cbf869-db31-4112-ad82-feab5cbf1b6f",
   "metadata": {},
   "source": [
    "reverse indexing"
   ]
  },
  {
   "cell_type": "code",
   "execution_count": 18,
   "id": "a8e77570-054b-4eab-a044-522542687603",
   "metadata": {},
   "outputs": [
    {
     "name": "stdout",
     "output_type": "stream",
     "text": [
      "18\n"
     ]
    }
   ],
   "source": [
    "list_1=[1,2,3,4,5,6,7,89,0,9876,3,2,12,34567,8,765,432,34567]\n",
    "print(len(list_1))"
   ]
  },
  {
   "cell_type": "code",
   "execution_count": 19,
   "id": "b83c3068-6022-46ca-9552-8b3a88d12d0a",
   "metadata": {},
   "outputs": [
    {
     "data": {
      "text/plain": [
       "34567"
      ]
     },
     "execution_count": 19,
     "metadata": {},
     "output_type": "execute_result"
    }
   ],
   "source": [
    "list_1[len(list_1)-1]"
   ]
  },
  {
   "cell_type": "code",
   "execution_count": 21,
   "id": "638bfc26-8d3c-46d7-9cec-8ffb9b0c4512",
   "metadata": {},
   "outputs": [
    {
     "data": {
      "text/plain": [
       "1"
      ]
     },
     "execution_count": 21,
     "metadata": {},
     "output_type": "execute_result"
    }
   ],
   "source": [
    "list_1[-18]"
   ]
  },
  {
   "cell_type": "code",
   "execution_count": 36,
   "id": "d3977a54-c67d-4802-990b-39c4ef9e669d",
   "metadata": {},
   "outputs": [
    {
     "name": "stdout",
     "output_type": "stream",
     "text": [
      "[1, 'ABC', 'w', 'a', 'l', 'i', 2, 'h', 'e', 'l', 'l', 'o']\n"
     ]
    }
   ],
   "source": [
    "a = [1,\"ABC\",'w','a','l','i',2]\n",
    "a += \"hello\"\n",
    "print(a)"
   ]
  },
  {
   "cell_type": "code",
   "execution_count": 37,
   "id": "2d9095b9-1b73-408b-b2a7-ed09d06fc080",
   "metadata": {},
   "outputs": [
    {
     "name": "stdout",
     "output_type": "stream",
     "text": [
      "[1, 'ABC', 'w', 'a', 'l', 'i', 2, 'h', 'e', 'l', 'l', 'o', 1, 'ABC', 'w', 'a', 'l', 'i', 2, 'h', 'e', 'l', 'l', 'o']\n"
     ]
    }
   ],
   "source": [
    "a = [1,\"ABC\",'w','a','l','i',2]\n",
    "a += \"hello\"\n",
    "a *= 2\n",
    "print(a)\n"
   ]
  },
  {
   "cell_type": "markdown",
   "id": "feeebadb-b89f-424e-a12d-f0258022f7f9",
   "metadata": {},
   "source": [
    "list is mutable means changable"
   ]
  },
  {
   "cell_type": "code",
   "execution_count": 30,
   "id": "a2526e56-922e-4cd0-b63e-86e27ebdf858",
   "metadata": {},
   "outputs": [
    {
     "name": "stdout",
     "output_type": "stream",
     "text": [
      "[1, 'xyz', 'w', 'a', 'l', 'i', 2, 'h', 'e', 'l', 'l', 'o', 1, 'ABC', 'w', 'a', 'l', 'i', 2, 'h', 'e', 'l', 'l', 'o']\n"
     ]
    }
   ],
   "source": [
    "a [1]=\"xyz\"\n",
    "print(a)"
   ]
  },
  {
   "cell_type": "code",
   "execution_count": 32,
   "id": "c081b47c-edd9-4a44-997f-ec5c90cecce2",
   "metadata": {},
   "outputs": [
    {
     "name": "stdout",
     "output_type": "stream",
     "text": [
      "[1, 'xyz', 'w']\n"
     ]
    }
   ],
   "source": [
    "b=a[0:3]\n",
    "print(b)"
   ]
  },
  {
   "cell_type": "code",
   "execution_count": 33,
   "id": "87583bc2-efef-4e94-8b1b-f5be9bbd4e02",
   "metadata": {},
   "outputs": [
    {
     "data": {
      "text/plain": [
       "[1, 'xyz', 'w']"
      ]
     },
     "execution_count": 33,
     "metadata": {},
     "output_type": "execute_result"
    }
   ],
   "source": [
    "a[0:3]"
   ]
  },
  {
   "cell_type": "code",
   "execution_count": 38,
   "id": "a15150b8-637e-428d-b9df-773e4eff1aea",
   "metadata": {},
   "outputs": [
    {
     "data": {
      "text/plain": [
       "['ABC',\n",
       " 'w',\n",
       " 'a',\n",
       " 'l',\n",
       " 'i',\n",
       " 2,\n",
       " 'h',\n",
       " 'e',\n",
       " 'l',\n",
       " 'l',\n",
       " 'o',\n",
       " 1,\n",
       " 'ABC',\n",
       " 'w',\n",
       " 'a',\n",
       " 'l',\n",
       " 'i',\n",
       " 2,\n",
       " 'h',\n",
       " 'e',\n",
       " 'l',\n",
       " 'l',\n",
       " 'o']"
      ]
     },
     "execution_count": 38,
     "metadata": {},
     "output_type": "execute_result"
    }
   ],
   "source": [
    "a[1:]"
   ]
  },
  {
   "cell_type": "code",
   "execution_count": null,
   "id": "52cf08b6-cb07-46f8-ad20-64112be1c158",
   "metadata": {},
   "outputs": [],
   "source": []
  },
  {
   "cell_type": "code",
   "execution_count": 39,
   "id": "8aa20665-5f0e-44dc-90f5-99162b3ca506",
   "metadata": {},
   "outputs": [
    {
     "data": {
      "text/plain": [
       "[1, 'a', 2, 'l', 1, 'a', 2, 'l']"
      ]
     },
     "execution_count": 39,
     "metadata": {},
     "output_type": "execute_result"
    }
   ],
   "source": [
    "a[::3]"
   ]
  },
  {
   "cell_type": "code",
   "execution_count": 41,
   "id": "3dd64037-6791-4a69-af44-028acb9e3311",
   "metadata": {},
   "outputs": [
    {
     "name": "stdout",
     "output_type": "stream",
     "text": [
      "['45678905', 8.58]\n"
     ]
    }
   ],
   "source": [
    "student=[2,\"STU\",8.58,\"FEMALE\",\"India\",\"45678905\"]\n",
    "print(student[::-3])"
   ]
  },
  {
   "cell_type": "code",
   "execution_count": 42,
   "id": "81efb65a-6cd8-42e7-936f-c454635d286f",
   "metadata": {},
   "outputs": [
    {
     "data": {
      "text/plain": [
       "[2, 8.58, 'India']"
      ]
     },
     "execution_count": 42,
     "metadata": {},
     "output_type": "execute_result"
    }
   ],
   "source": [
    "student[::2]"
   ]
  },
  {
   "cell_type": "markdown",
   "id": "89eb0d0a-acd3-46bc-8454-7d0d5bc856a9",
   "metadata": {},
   "source": [
    "write a python code to create a list of 100 elements , where all the entries are same number , and the numbe is given by the user"
   ]
  },
  {
   "cell_type": "code",
   "execution_count": 43,
   "id": "4c835a61-1d3c-4d66-b5b0-b8b3a61a2ae6",
   "metadata": {},
   "outputs": [
    {
     "name": "stdin",
     "output_type": "stream",
     "text": [
      "Enter a number:  5\n"
     ]
    },
    {
     "name": "stdout",
     "output_type": "stream",
     "text": [
      "[5, 5, 5, 5, 5, 5, 5, 5, 5, 5, 5, 5, 5, 5, 5, 5, 5, 5, 5, 5, 5, 5, 5, 5, 5, 5, 5, 5, 5, 5, 5, 5, 5, 5, 5, 5, 5, 5, 5, 5, 5, 5, 5, 5, 5, 5, 5, 5, 5, 5, 5, 5, 5, 5, 5, 5, 5, 5, 5, 5, 5, 5, 5, 5, 5, 5, 5, 5, 5, 5, 5, 5, 5, 5, 5, 5, 5, 5, 5, 5, 5, 5, 5, 5, 5, 5, 5, 5, 5, 5, 5, 5, 5, 5, 5, 5, 5, 5, 5, 5]\n"
     ]
    }
   ],
   "source": [
    "number = int(input(\"Enter a number: \"))\n",
    "my_list = [number] * 100\n",
    "print(my_list)"
   ]
  },
  {
   "cell_type": "code",
   "execution_count": 44,
   "id": "1314f7b9-8c8f-4f57-886f-acbce23fa91c",
   "metadata": {},
   "outputs": [
    {
     "name": "stdin",
     "output_type": "stream",
     "text": [
      "Enter a number:  5\n"
     ]
    },
    {
     "name": "stdout",
     "output_type": "stream",
     "text": [
      "[5, 5, 5, 5, 5, 5, 5, 5, 5, 5, 5, 5, 5, 5, 5, 5, 5, 5, 5, 5, 5, 5, 5, 5, 5, 5, 5, 5, 5, 5, 5, 5, 5, 5, 5, 5, 5, 5, 5, 5, 5, 5, 5, 5, 5, 5, 5, 5, 5, 5, 5, 5, 5, 5, 5, 5, 5, 5, 5, 5, 5, 5, 5, 5, 5, 5, 5, 5, 5, 5, 5, 5, 5, 5, 5, 5, 5, 5, 5, 5, 5, 5, 5, 5, 5, 5, 5, 5, 5, 5, 5, 5, 5, 5, 5, 5, 5, 5, 5, 5]\n"
     ]
    }
   ],
   "source": [
    "my_list = []\n",
    "number = int(input(\"Enter a number: \"))\n",
    "my_list = [number] * 100\n",
    "print(my_list)"
   ]
  },
  {
   "cell_type": "markdown",
   "id": "527dcad4-794a-4008-83c1-ecf087db845f",
   "metadata": {},
   "source": [
    "odd values "
   ]
  },
  {
   "cell_type": "code",
   "execution_count": 45,
   "id": "2fb2953b-1e52-445e-9fe5-195b33d227ce",
   "metadata": {},
   "outputs": [
    {
     "name": "stdout",
     "output_type": "stream",
     "text": [
      "[1, 3, 5, 7, 9, 11, 13, 15, 17, 19]\n"
     ]
    }
   ],
   "source": [
    "odd_numbers = [2 * i + 1 for i in range(10)]\n",
    "\n",
    "print(odd_numbers)"
   ]
  },
  {
   "cell_type": "code",
   "execution_count": 46,
   "id": "b4c14bc9-3ba7-4783-ab78-8ea9351b42c2",
   "metadata": {},
   "outputs": [
    {
     "name": "stdout",
     "output_type": "stream",
     "text": [
      "[1, 3, 5, 7, 9, 11, 13, 15, 17, 19]\n"
     ]
    }
   ],
   "source": [
    "list_3 = list(range(1,20,2))\n",
    "print(list_3)"
   ]
  },
  {
   "cell_type": "code",
   "execution_count": 49,
   "id": "a2551f3b-098b-47db-b687-6d3552b3dfbc",
   "metadata": {},
   "outputs": [
    {
     "name": "stdout",
     "output_type": "stream",
     "text": [
      "[1, 2, 3, 4, 5, 6, 7, 8, 9, 10]\n",
      "[1, 3, 5, 7, 9]\n"
     ]
    }
   ],
   "source": [
    "list_3 = list(range(1,11))\n",
    "odd = list_3[::2]\n",
    "print(list_3)\n",
    "print(odd)"
   ]
  },
  {
   "cell_type": "code",
   "execution_count": 51,
   "id": "0ccd7a01-8e56-4e69-9e2c-fffa64b93656",
   "metadata": {},
   "outputs": [
    {
     "name": "stdin",
     "output_type": "stream",
     "text": [
      " 2\n"
     ]
    },
    {
     "data": {
      "text/plain": [
       "['2']"
      ]
     },
     "execution_count": 51,
     "metadata": {},
     "output_type": "execute_result"
    }
   ],
   "source": [
    "string = input()\n",
    "list_3 = list(string)\n",
    "list_3\n"
   ]
  },
  {
   "cell_type": "code",
   "execution_count": 63,
   "id": "88518c24-8dbe-448c-b8a9-b696d9e2f190",
   "metadata": {},
   "outputs": [
    {
     "name": "stdin",
     "output_type": "stream",
     "text": [
      " 123\n",
      " 456\n"
     ]
    },
    {
     "name": "stdout",
     "output_type": "stream",
     "text": [
      "['1', '2', '3', '4', '5', '6']\n"
     ]
    }
   ],
   "source": [
    "l1= list(input())\n",
    "l2= list(input())\n",
    "l1.extend(l2) \n",
    "print(l1)"
   ]
  },
  {
   "cell_type": "code",
   "execution_count": null,
   "id": "8e8b1df6-0cf0-4dc1-8ee3-e9e72d0ad3b4",
   "metadata": {},
   "outputs": [],
   "source": []
  }
 ],
 "metadata": {
  "kernelspec": {
   "display_name": "Python 3 (ipykernel)",
   "language": "python",
   "name": "python3"
  },
  "language_info": {
   "codemirror_mode": {
    "name": "ipython",
    "version": 3
   },
   "file_extension": ".py",
   "mimetype": "text/x-python",
   "name": "python",
   "nbconvert_exporter": "python",
   "pygments_lexer": "ipython3",
   "version": "3.12.6"
  }
 },
 "nbformat": 4,
 "nbformat_minor": 5
}
